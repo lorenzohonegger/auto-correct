{
 "cells": [
  {
   "cell_type": "markdown",
   "metadata": {},
   "source": [
    "# Auto Correct in Python"
   ]
  },
  {
   "cell_type": "code",
   "execution_count": 15,
   "metadata": {},
   "outputs": [
    {
     "name": "stdout",
     "output_type": "stream",
     "text": [
      "The first ten words in the text are: \n",
      "['o', 'for', 'a', 'muse', 'of', 'fire', 'that', 'would', 'ascend', 'the']\n",
      "There are 6116 unique words in the vocabulary\n"
     ]
    }
   ],
   "source": [
    "from autocorrect_functions import (process_data, get_count, get_probs, delete_letter, switch_letter, \n",
    "                                   replace_letter, insert_letter, edit_one_letter, edit_two_letters, get_corrections)\n",
    "\n",
    "#process dataset & make set from all words\n",
    "word_l = process_data('shakespeare.txt'); \n",
    "vocab = set(word_l); \n",
    "\n",
    "#get number key value pairs & word probabilities\n",
    "word_count_dict = get_count(word_l);\n",
    "probs = get_probs(word_count_dict);\n",
    "\n",
    "print(f\"The first ten words in the text are: \\n{word_l[0:10]}\");\n",
    "print(f\"There are {len(vocab)} unique words in the vocabulary\");"
   ]
  },
  {
   "cell_type": "code",
   "execution_count": 2,
   "metadata": {},
   "outputs": [
    {
     "name": "stdout",
     "output_type": "stream",
     "text": [
      "els\n",
      "entered word =  els \n",
      "suggestions =  {'ely', 'else'}\n",
      "word 0: else, probability 0.04 %\n",
      "word 1: ely, probability 0.03 %\n"
     ]
    }
   ],
   "source": [
    "#get auto correct suggestions\n",
    "my_word = input();     #hel, sord, fnd, sng, dys, hous, \n",
    "\n",
    "#get corrections\n",
    "tmp_corrections = get_corrections(my_word, probs, vocab, word_count_dict, 2, verbose=True) \n",
    "for i, word_prob in enumerate(tmp_corrections):\n",
    "    print(f\"word {i}: {word_prob[0]}, probability {100*word_prob[1]:.2f} %\")"
   ]
  },
  {
   "cell_type": "code",
   "execution_count": null,
   "metadata": {},
   "outputs": [],
   "source": [
    "# test change\n",
    "# test 2"
   ]
  },
  {
   "cell_type": "code",
   "execution_count": null,
   "metadata": {},
   "outputs": [],
   "source": []
  },
  {
   "cell_type": "code",
   "execution_count": null,
   "metadata": {},
   "outputs": [],
   "source": []
  },
  {
   "cell_type": "code",
   "execution_count": null,
   "metadata": {},
   "outputs": [],
   "source": []
  }
 ],
 "metadata": {
  "coursera": {
   "schema_names": [
    "NLPC2-1"
   ]
  },
  "kernelspec": {
   "display_name": "Python 3",
   "language": "python",
   "name": "python3"
  },
  "language_info": {
   "codemirror_mode": {
    "name": "ipython",
    "version": 3
   },
   "file_extension": ".py",
   "mimetype": "text/x-python",
   "name": "python",
   "nbconvert_exporter": "python",
   "pygments_lexer": "ipython3",
   "version": "3.7.6"
  }
 },
 "nbformat": 4,
 "nbformat_minor": 4
}
